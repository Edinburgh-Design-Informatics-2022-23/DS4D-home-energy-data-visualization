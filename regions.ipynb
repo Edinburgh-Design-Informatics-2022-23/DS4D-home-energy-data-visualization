{
 "cells": [
  {
   "cell_type": "code",
   "execution_count": 5,
   "outputs": [],
   "source": [
    "import numpy as np\n",
    "import pandas as pd\n",
    "import matplotlib.pyplot as plt\n",
    "import seaborn as sns"
   ],
   "metadata": {
    "collapsed": false,
    "pycharm": {
     "name": "#%%\n"
    }
   }
  },
  {
   "cell_type": "code",
   "execution_count": 6,
   "outputs": [
    {
     "name": "stderr",
     "output_type": "stream",
     "text": [
      "/var/folders/lw/cbxh4d5n6nj91c7dnbv6yy740000gn/T/ipykernel_4533/896630535.py:2: DtypeWarning: Columns (5) have mixed types. Specify dtype option on import or set low_memory=False.\n",
      "  data = pd.read_csv(\"dataset/serl_energy_use_in_GB_domestic_buildings_2021_aggregated_statistics_v01.csv\")\n"
     ]
    }
   ],
   "source": [
    "#read the csv file.\n",
    "data = pd.read_csv(\"dataset/serl_energy_use_in_GB_domestic_buildings_2021_aggregated_statistics_v01.csv\")\n",
    "\n",
    "# replace the <class 'int'> value by <class 'str'> value.\n",
    "data['time_period'].replace(2020, '2020', inplace=True)\n",
    "data['time_period'].replace(2021, '2021', inplace=True)"
   ],
   "metadata": {
    "collapsed": false,
    "pycharm": {
     "name": "#%%\n"
    }
   }
  },
  {
   "cell_type": "code",
   "execution_count": 15,
   "outputs": [
    {
     "data": {
      "text/plain": "                  fuel summary_time  segment_1_value   value  n_sample\n76010  Net Electricity         2021    WEST MIDLANDS   9.254     954.0\n76015              Gas         2021    WEST MIDLANDS  38.079     771.0\n76620  Net Electricity         2020    WEST MIDLANDS   9.674     350.0\n76625              Gas         2020    WEST MIDLANDS  38.390     321.0\n77230  Net Electricity         2021    EAST MIDLANDS   9.505     762.0\n77235              Gas         2021    EAST MIDLANDS  39.779     657.0\n77840  Net Electricity         2020    EAST MIDLANDS   9.826     325.0\n77845              Gas         2020    EAST MIDLANDS  35.555     303.0\n78450  Net Electricity         2021       SOUTH WEST   9.657     974.0\n78455              Gas         2021       SOUTH WEST  33.112     692.0\n79060  Net Electricity         2020       SOUTH WEST  10.662     410.0\n79065              Gas         2020       SOUTH WEST  32.616     304.0\n79670  Net Electricity         2021   GREATER LONDON  10.291    1403.0\n79675              Gas         2021   GREATER LONDON  41.931     941.0\n80280  Net Electricity         2020   GREATER LONDON  10.755     519.0\n80285              Gas         2020   GREATER LONDON  41.427     376.0\n80890  Net Electricity         2021       NORTH EAST   8.876     396.0\n80895              Gas         2021       NORTH EAST  37.421     301.0\n81500  Net Electricity         2020       NORTH EAST  12.194     134.0\n81505              Gas         2020       NORTH EAST  37.984     129.0\n82110  Net Electricity         2021       SOUTH EAST  10.523    1425.0\n82115              Gas         2021       SOUTH EAST  40.572    1068.0\n82720  Net Electricity         2020       SOUTH EAST  10.529     598.0\n82725              Gas         2020       SOUTH EAST  37.426     491.0\n83330  Net Electricity         2021         SCOTLAND   9.838    1010.0\n83335              Gas         2021         SCOTLAND  38.743     574.0\n83940  Net Electricity         2020         SCOTLAND  14.341     245.0\n83945              Gas         2020         SCOTLAND  38.120     179.0\n84550  Net Electricity         2021       NORTH WEST   9.702    1312.0\n84555              Gas         2021       NORTH WEST  38.983    1043.0\n85160  Net Electricity         2020       NORTH WEST  10.930     351.0\n85165              Gas         2020       NORTH WEST  35.272     333.0\n85770  Net Electricity         2021  EAST OF ENGLAND  10.351     969.0\n85775              Gas         2021  EAST OF ENGLAND  39.377     718.0\n86380  Net Electricity         2020  EAST OF ENGLAND  11.080     405.0\n86385              Gas         2020  EAST OF ENGLAND  35.798     296.0\n86990  Net Electricity         2021            WALES   9.223     655.0\n86995              Gas         2021            WALES  35.432     506.0\n87600  Net Electricity         2020            WALES   8.814     162.0\n87605              Gas         2020            WALES  32.806     151.0\n88210  Net Electricity         2021        YORKSHIRE   9.480     904.0\n88215              Gas         2021        YORKSHIRE  38.193     691.0\n88820  Net Electricity         2020        YORKSHIRE  10.876     205.0\n88825              Gas         2020        YORKSHIRE  38.312     172.0",
      "text/html": "<div>\n<style scoped>\n    .dataframe tbody tr th:only-of-type {\n        vertical-align: middle;\n    }\n\n    .dataframe tbody tr th {\n        vertical-align: top;\n    }\n\n    .dataframe thead th {\n        text-align: right;\n    }\n</style>\n<table border=\"1\" class=\"dataframe\">\n  <thead>\n    <tr style=\"text-align: right;\">\n      <th></th>\n      <th>fuel</th>\n      <th>summary_time</th>\n      <th>segment_1_value</th>\n      <th>value</th>\n      <th>n_sample</th>\n    </tr>\n  </thead>\n  <tbody>\n    <tr>\n      <th>76010</th>\n      <td>Net Electricity</td>\n      <td>2021</td>\n      <td>WEST MIDLANDS</td>\n      <td>9.254</td>\n      <td>954.0</td>\n    </tr>\n    <tr>\n      <th>76015</th>\n      <td>Gas</td>\n      <td>2021</td>\n      <td>WEST MIDLANDS</td>\n      <td>38.079</td>\n      <td>771.0</td>\n    </tr>\n    <tr>\n      <th>76620</th>\n      <td>Net Electricity</td>\n      <td>2020</td>\n      <td>WEST MIDLANDS</td>\n      <td>9.674</td>\n      <td>350.0</td>\n    </tr>\n    <tr>\n      <th>76625</th>\n      <td>Gas</td>\n      <td>2020</td>\n      <td>WEST MIDLANDS</td>\n      <td>38.390</td>\n      <td>321.0</td>\n    </tr>\n    <tr>\n      <th>77230</th>\n      <td>Net Electricity</td>\n      <td>2021</td>\n      <td>EAST MIDLANDS</td>\n      <td>9.505</td>\n      <td>762.0</td>\n    </tr>\n    <tr>\n      <th>77235</th>\n      <td>Gas</td>\n      <td>2021</td>\n      <td>EAST MIDLANDS</td>\n      <td>39.779</td>\n      <td>657.0</td>\n    </tr>\n    <tr>\n      <th>77840</th>\n      <td>Net Electricity</td>\n      <td>2020</td>\n      <td>EAST MIDLANDS</td>\n      <td>9.826</td>\n      <td>325.0</td>\n    </tr>\n    <tr>\n      <th>77845</th>\n      <td>Gas</td>\n      <td>2020</td>\n      <td>EAST MIDLANDS</td>\n      <td>35.555</td>\n      <td>303.0</td>\n    </tr>\n    <tr>\n      <th>78450</th>\n      <td>Net Electricity</td>\n      <td>2021</td>\n      <td>SOUTH WEST</td>\n      <td>9.657</td>\n      <td>974.0</td>\n    </tr>\n    <tr>\n      <th>78455</th>\n      <td>Gas</td>\n      <td>2021</td>\n      <td>SOUTH WEST</td>\n      <td>33.112</td>\n      <td>692.0</td>\n    </tr>\n    <tr>\n      <th>79060</th>\n      <td>Net Electricity</td>\n      <td>2020</td>\n      <td>SOUTH WEST</td>\n      <td>10.662</td>\n      <td>410.0</td>\n    </tr>\n    <tr>\n      <th>79065</th>\n      <td>Gas</td>\n      <td>2020</td>\n      <td>SOUTH WEST</td>\n      <td>32.616</td>\n      <td>304.0</td>\n    </tr>\n    <tr>\n      <th>79670</th>\n      <td>Net Electricity</td>\n      <td>2021</td>\n      <td>GREATER LONDON</td>\n      <td>10.291</td>\n      <td>1403.0</td>\n    </tr>\n    <tr>\n      <th>79675</th>\n      <td>Gas</td>\n      <td>2021</td>\n      <td>GREATER LONDON</td>\n      <td>41.931</td>\n      <td>941.0</td>\n    </tr>\n    <tr>\n      <th>80280</th>\n      <td>Net Electricity</td>\n      <td>2020</td>\n      <td>GREATER LONDON</td>\n      <td>10.755</td>\n      <td>519.0</td>\n    </tr>\n    <tr>\n      <th>80285</th>\n      <td>Gas</td>\n      <td>2020</td>\n      <td>GREATER LONDON</td>\n      <td>41.427</td>\n      <td>376.0</td>\n    </tr>\n    <tr>\n      <th>80890</th>\n      <td>Net Electricity</td>\n      <td>2021</td>\n      <td>NORTH EAST</td>\n      <td>8.876</td>\n      <td>396.0</td>\n    </tr>\n    <tr>\n      <th>80895</th>\n      <td>Gas</td>\n      <td>2021</td>\n      <td>NORTH EAST</td>\n      <td>37.421</td>\n      <td>301.0</td>\n    </tr>\n    <tr>\n      <th>81500</th>\n      <td>Net Electricity</td>\n      <td>2020</td>\n      <td>NORTH EAST</td>\n      <td>12.194</td>\n      <td>134.0</td>\n    </tr>\n    <tr>\n      <th>81505</th>\n      <td>Gas</td>\n      <td>2020</td>\n      <td>NORTH EAST</td>\n      <td>37.984</td>\n      <td>129.0</td>\n    </tr>\n    <tr>\n      <th>82110</th>\n      <td>Net Electricity</td>\n      <td>2021</td>\n      <td>SOUTH EAST</td>\n      <td>10.523</td>\n      <td>1425.0</td>\n    </tr>\n    <tr>\n      <th>82115</th>\n      <td>Gas</td>\n      <td>2021</td>\n      <td>SOUTH EAST</td>\n      <td>40.572</td>\n      <td>1068.0</td>\n    </tr>\n    <tr>\n      <th>82720</th>\n      <td>Net Electricity</td>\n      <td>2020</td>\n      <td>SOUTH EAST</td>\n      <td>10.529</td>\n      <td>598.0</td>\n    </tr>\n    <tr>\n      <th>82725</th>\n      <td>Gas</td>\n      <td>2020</td>\n      <td>SOUTH EAST</td>\n      <td>37.426</td>\n      <td>491.0</td>\n    </tr>\n    <tr>\n      <th>83330</th>\n      <td>Net Electricity</td>\n      <td>2021</td>\n      <td>SCOTLAND</td>\n      <td>9.838</td>\n      <td>1010.0</td>\n    </tr>\n    <tr>\n      <th>83335</th>\n      <td>Gas</td>\n      <td>2021</td>\n      <td>SCOTLAND</td>\n      <td>38.743</td>\n      <td>574.0</td>\n    </tr>\n    <tr>\n      <th>83940</th>\n      <td>Net Electricity</td>\n      <td>2020</td>\n      <td>SCOTLAND</td>\n      <td>14.341</td>\n      <td>245.0</td>\n    </tr>\n    <tr>\n      <th>83945</th>\n      <td>Gas</td>\n      <td>2020</td>\n      <td>SCOTLAND</td>\n      <td>38.120</td>\n      <td>179.0</td>\n    </tr>\n    <tr>\n      <th>84550</th>\n      <td>Net Electricity</td>\n      <td>2021</td>\n      <td>NORTH WEST</td>\n      <td>9.702</td>\n      <td>1312.0</td>\n    </tr>\n    <tr>\n      <th>84555</th>\n      <td>Gas</td>\n      <td>2021</td>\n      <td>NORTH WEST</td>\n      <td>38.983</td>\n      <td>1043.0</td>\n    </tr>\n    <tr>\n      <th>85160</th>\n      <td>Net Electricity</td>\n      <td>2020</td>\n      <td>NORTH WEST</td>\n      <td>10.930</td>\n      <td>351.0</td>\n    </tr>\n    <tr>\n      <th>85165</th>\n      <td>Gas</td>\n      <td>2020</td>\n      <td>NORTH WEST</td>\n      <td>35.272</td>\n      <td>333.0</td>\n    </tr>\n    <tr>\n      <th>85770</th>\n      <td>Net Electricity</td>\n      <td>2021</td>\n      <td>EAST OF ENGLAND</td>\n      <td>10.351</td>\n      <td>969.0</td>\n    </tr>\n    <tr>\n      <th>85775</th>\n      <td>Gas</td>\n      <td>2021</td>\n      <td>EAST OF ENGLAND</td>\n      <td>39.377</td>\n      <td>718.0</td>\n    </tr>\n    <tr>\n      <th>86380</th>\n      <td>Net Electricity</td>\n      <td>2020</td>\n      <td>EAST OF ENGLAND</td>\n      <td>11.080</td>\n      <td>405.0</td>\n    </tr>\n    <tr>\n      <th>86385</th>\n      <td>Gas</td>\n      <td>2020</td>\n      <td>EAST OF ENGLAND</td>\n      <td>35.798</td>\n      <td>296.0</td>\n    </tr>\n    <tr>\n      <th>86990</th>\n      <td>Net Electricity</td>\n      <td>2021</td>\n      <td>WALES</td>\n      <td>9.223</td>\n      <td>655.0</td>\n    </tr>\n    <tr>\n      <th>86995</th>\n      <td>Gas</td>\n      <td>2021</td>\n      <td>WALES</td>\n      <td>35.432</td>\n      <td>506.0</td>\n    </tr>\n    <tr>\n      <th>87600</th>\n      <td>Net Electricity</td>\n      <td>2020</td>\n      <td>WALES</td>\n      <td>8.814</td>\n      <td>162.0</td>\n    </tr>\n    <tr>\n      <th>87605</th>\n      <td>Gas</td>\n      <td>2020</td>\n      <td>WALES</td>\n      <td>32.806</td>\n      <td>151.0</td>\n    </tr>\n    <tr>\n      <th>88210</th>\n      <td>Net Electricity</td>\n      <td>2021</td>\n      <td>YORKSHIRE</td>\n      <td>9.480</td>\n      <td>904.0</td>\n    </tr>\n    <tr>\n      <th>88215</th>\n      <td>Gas</td>\n      <td>2021</td>\n      <td>YORKSHIRE</td>\n      <td>38.193</td>\n      <td>691.0</td>\n    </tr>\n    <tr>\n      <th>88820</th>\n      <td>Net Electricity</td>\n      <td>2020</td>\n      <td>YORKSHIRE</td>\n      <td>10.876</td>\n      <td>205.0</td>\n    </tr>\n    <tr>\n      <th>88825</th>\n      <td>Gas</td>\n      <td>2020</td>\n      <td>YORKSHIRE</td>\n      <td>38.312</td>\n      <td>172.0</td>\n    </tr>\n  </tbody>\n</table>\n</div>"
     },
     "execution_count": 15,
     "metadata": {},
     "output_type": "execute_result"
    }
   ],
   "source": [
    "# region annual data about fuel and net electricity use.\n",
    "# (For making some fancy graphic visualization using Adobe Illustrator)\n",
    "region_annual_data = data.loc[(data['segmentation_variable_1'] == 'Region') &\n",
    "                            (data['summary_stat'] == 'mean') &\n",
    "                            ((data['summary_time'] == '2021') |\n",
    "                            (data['summary_time'] == '2020'))]\n",
    "region_annual_data.loc[:,['fuel', 'summary_time', 'segment_1_value', 'value', 'n_sample']]"
   ],
   "metadata": {
    "collapsed": false,
    "pycharm": {
     "name": "#%%\n"
    }
   }
  },
  {
   "cell_type": "code",
   "execution_count": 16,
   "outputs": [
    {
     "data": {
      "text/plain": "      summary_time time_period  segment_1_value  EG_ratio\n76010         2021        2021    WEST MIDLANDS  0.243021\n76620         2020        2020    WEST MIDLANDS  0.251993\n77230         2021        2021    EAST MIDLANDS  0.238945\n77840         2020        2020    EAST MIDLANDS  0.276361\n78450         2021        2021       SOUTH WEST  0.291647\n79060         2020        2020       SOUTH WEST  0.326895\n79670         2021        2021   GREATER LONDON  0.245427\n80280         2020        2020   GREATER LONDON  0.259613\n80890         2021        2021       NORTH EAST  0.237193\n81500         2020        2020       NORTH EAST  0.321030\n82110         2021        2021       SOUTH EAST  0.259366\n82720         2020        2020       SOUTH EAST  0.281328\n83330         2021        2021         SCOTLAND  0.253930\n83940         2020        2020         SCOTLAND  0.376207\n84550         2021        2021       NORTH WEST  0.248878\n85160         2020        2020       NORTH WEST  0.309878\n85770         2021        2021  EAST OF ENGLAND  0.262869\n86380         2020        2020  EAST OF ENGLAND  0.309514\n86990         2021        2021            WALES  0.260301\n87600         2020        2020            WALES  0.268670\n88210         2021        2021        YORKSHIRE  0.248213\n88820         2020        2020        YORKSHIRE  0.283880",
      "text/html": "<div>\n<style scoped>\n    .dataframe tbody tr th:only-of-type {\n        vertical-align: middle;\n    }\n\n    .dataframe tbody tr th {\n        vertical-align: top;\n    }\n\n    .dataframe thead th {\n        text-align: right;\n    }\n</style>\n<table border=\"1\" class=\"dataframe\">\n  <thead>\n    <tr style=\"text-align: right;\">\n      <th></th>\n      <th>summary_time</th>\n      <th>time_period</th>\n      <th>segment_1_value</th>\n      <th>EG_ratio</th>\n    </tr>\n  </thead>\n  <tbody>\n    <tr>\n      <th>76010</th>\n      <td>2021</td>\n      <td>2021</td>\n      <td>WEST MIDLANDS</td>\n      <td>0.243021</td>\n    </tr>\n    <tr>\n      <th>76620</th>\n      <td>2020</td>\n      <td>2020</td>\n      <td>WEST MIDLANDS</td>\n      <td>0.251993</td>\n    </tr>\n    <tr>\n      <th>77230</th>\n      <td>2021</td>\n      <td>2021</td>\n      <td>EAST MIDLANDS</td>\n      <td>0.238945</td>\n    </tr>\n    <tr>\n      <th>77840</th>\n      <td>2020</td>\n      <td>2020</td>\n      <td>EAST MIDLANDS</td>\n      <td>0.276361</td>\n    </tr>\n    <tr>\n      <th>78450</th>\n      <td>2021</td>\n      <td>2021</td>\n      <td>SOUTH WEST</td>\n      <td>0.291647</td>\n    </tr>\n    <tr>\n      <th>79060</th>\n      <td>2020</td>\n      <td>2020</td>\n      <td>SOUTH WEST</td>\n      <td>0.326895</td>\n    </tr>\n    <tr>\n      <th>79670</th>\n      <td>2021</td>\n      <td>2021</td>\n      <td>GREATER LONDON</td>\n      <td>0.245427</td>\n    </tr>\n    <tr>\n      <th>80280</th>\n      <td>2020</td>\n      <td>2020</td>\n      <td>GREATER LONDON</td>\n      <td>0.259613</td>\n    </tr>\n    <tr>\n      <th>80890</th>\n      <td>2021</td>\n      <td>2021</td>\n      <td>NORTH EAST</td>\n      <td>0.237193</td>\n    </tr>\n    <tr>\n      <th>81500</th>\n      <td>2020</td>\n      <td>2020</td>\n      <td>NORTH EAST</td>\n      <td>0.321030</td>\n    </tr>\n    <tr>\n      <th>82110</th>\n      <td>2021</td>\n      <td>2021</td>\n      <td>SOUTH EAST</td>\n      <td>0.259366</td>\n    </tr>\n    <tr>\n      <th>82720</th>\n      <td>2020</td>\n      <td>2020</td>\n      <td>SOUTH EAST</td>\n      <td>0.281328</td>\n    </tr>\n    <tr>\n      <th>83330</th>\n      <td>2021</td>\n      <td>2021</td>\n      <td>SCOTLAND</td>\n      <td>0.253930</td>\n    </tr>\n    <tr>\n      <th>83940</th>\n      <td>2020</td>\n      <td>2020</td>\n      <td>SCOTLAND</td>\n      <td>0.376207</td>\n    </tr>\n    <tr>\n      <th>84550</th>\n      <td>2021</td>\n      <td>2021</td>\n      <td>NORTH WEST</td>\n      <td>0.248878</td>\n    </tr>\n    <tr>\n      <th>85160</th>\n      <td>2020</td>\n      <td>2020</td>\n      <td>NORTH WEST</td>\n      <td>0.309878</td>\n    </tr>\n    <tr>\n      <th>85770</th>\n      <td>2021</td>\n      <td>2021</td>\n      <td>EAST OF ENGLAND</td>\n      <td>0.262869</td>\n    </tr>\n    <tr>\n      <th>86380</th>\n      <td>2020</td>\n      <td>2020</td>\n      <td>EAST OF ENGLAND</td>\n      <td>0.309514</td>\n    </tr>\n    <tr>\n      <th>86990</th>\n      <td>2021</td>\n      <td>2021</td>\n      <td>WALES</td>\n      <td>0.260301</td>\n    </tr>\n    <tr>\n      <th>87600</th>\n      <td>2020</td>\n      <td>2020</td>\n      <td>WALES</td>\n      <td>0.268670</td>\n    </tr>\n    <tr>\n      <th>88210</th>\n      <td>2021</td>\n      <td>2021</td>\n      <td>YORKSHIRE</td>\n      <td>0.248213</td>\n    </tr>\n    <tr>\n      <th>88820</th>\n      <td>2020</td>\n      <td>2020</td>\n      <td>YORKSHIRE</td>\n      <td>0.283880</td>\n    </tr>\n  </tbody>\n</table>\n</div>"
     },
     "execution_count": 16,
     "metadata": {},
     "output_type": "execute_result"
    }
   ],
   "source": [
    "# get different regions annual EG_ratio\n",
    "EG_ratio_region = np.array(region_annual_data.loc[region_annual_data['fuel'] == 'Net Electricity','value'] / np.array(region_annual_data.loc[region_annual_data['fuel'] == 'Gas', 'value']))\n",
    "\n",
    "region_annual_EGR = region_annual_data.loc[::2,['summary_time', 'time_period', 'segment_1_value', 'value']]\n",
    "region_annual_EGR['EG_ratio'] = EG_ratio_region\n",
    "del region_annual_EGR['value']\n",
    "region_annual_EGR"
   ],
   "metadata": {
    "collapsed": false,
    "pycharm": {
     "name": "#%%\n"
    }
   }
  },
  {
   "cell_type": "markdown",
   "source": [
    "some detail analysis conclusion can be found in file\n",
    "/assignment2/s2315477_Xinyuan Feng_Assignment_2.ipynb\n",
    "in **Exploration and Hypotheses** - 1. The energy mix may be influenced by time."
   ],
   "metadata": {
    "collapsed": false,
    "pycharm": {
     "name": "#%% md\n"
    }
   }
  },
  {
   "cell_type": "code",
   "execution_count": null,
   "outputs": [],
   "source": [],
   "metadata": {
    "collapsed": false,
    "pycharm": {
     "name": "#%%\n"
    }
   }
  }
 ],
 "metadata": {
  "kernelspec": {
   "display_name": "Python 3",
   "language": "python",
   "name": "python3"
  },
  "language_info": {
   "codemirror_mode": {
    "name": "ipython",
    "version": 2
   },
   "file_extension": ".py",
   "mimetype": "text/x-python",
   "name": "python",
   "nbconvert_exporter": "python",
   "pygments_lexer": "ipython2",
   "version": "2.7.6"
  }
 },
 "nbformat": 4,
 "nbformat_minor": 0
}